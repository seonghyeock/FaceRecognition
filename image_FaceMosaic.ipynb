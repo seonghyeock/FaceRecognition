{
 "cells": [
  {
   "cell_type": "markdown",
   "metadata": {},
   "source": [
    "- 이미지에서 얼굴을 인식하여 모자이크를 적용하고 적용된 이미지를 저장하는 코드입니다."
   ]
  },
  {
   "cell_type": "code",
   "execution_count": null,
   "metadata": {},
   "outputs": [],
   "source": [
    "import cv2\n",
    "import os\n",
    "from mtcnn import MTCNN"
   ]
  },
  {
   "cell_type": "code",
   "execution_count": null,
   "metadata": {},
   "outputs": [],
   "source": [
    "# 이미지 폴더 경로\n",
    "image_folder_path = r\"C:\\Users\\chosh\\Desktop\\RecognitionInput\"\n",
    "\n",
    "# 저장할 얼굴 이미지 폴더 경로\n",
    "output_folder_path = r\"C:\\Users\\chosh\\Desktop\\RecognitionOutput\"\n",
    "\n",
    "# 모자이크 블러 사이즈\n",
    "# 모자이크 효과의 강도를 조절\n",
    "mosaic_size = (30, 30)"
   ]
  },
  {
   "cell_type": "code",
   "execution_count": null,
   "metadata": {},
   "outputs": [],
   "source": [
    "# 얼굴 인식기 로드\n",
    "detector = MTCNN()\n",
    "\n",
    "# 이미지 폴더 내 모든 이미지 파일에 대해 처리\n",
    "for filename in os.listdir(image_folder_path):\n",
    "    image_path = os.path.join(image_folder_path, filename)\n",
    "    image = cv2.imread(image_path)\n",
    "\n",
    "    if image is not None:  # Check if the image is not empty\n",
    "        # BGR을 RGB로 변환\n",
    "        rgb_image = cv2.cvtColor(image, cv2.COLOR_BGR2RGB)\n",
    "\n",
    "        # 얼굴 검출\n",
    "        faces = detector.detect_faces(rgb_image)\n",
    "\n",
    "        # 각 얼굴에 대해 반복\n",
    "        for i, face in enumerate(faces):\n",
    "            # 얼굴 위치 추출\n",
    "            x, y, w, h = face['box']\n",
    "\n",
    "            # 얼굴 영역 모자이크 처리\n",
    "            face_image = image[y:y+h, x:x+w]\n",
    "            face_image_resized = cv2.resize(face_image, mosaic_size, interpolation=cv2.INTER_LINEAR)\n",
    "            face_image_resized = cv2.resize(face_image_resized, (w, h), interpolation=cv2.INTER_NEAREST)\n",
    "\n",
    "            # Check if the shapes match\n",
    "            if face_image.shape == face_image_resized.shape:\n",
    "                # 원본 이미지에 모자이크된 얼굴 영역 적용\n",
    "                image[y:y+h, x:x+w] = face_image_resized\n",
    "                \n",
    "                \n",
    "                # 원본 이미지에 모자이크된 얼굴 영역 적용\n",
    "                image[y:y+h, x:x+w] = face_image_resized\n",
    "            \n",
    "            else:\n",
    "                print(f\"Error: Mismatch in shape for face {i}. Skipping this face.\")\n",
    "\n",
    "        # 모자이크된 이미지 저장\n",
    "        output_filename = f\"{os.path.splitext(filename)[0]}_face_{i}_mosaic.jpg\"\n",
    "        output_path = os.path.join(output_folder_path, output_filename)\n",
    "        cv2.imwrite(output_path, image)\n",
    "\n",
    "        print(f\"모자이크된 얼굴 이미지 저장 완료: {output_path}\")"
   ]
  }
 ],
 "metadata": {
  "language_info": {
   "name": "python"
  }
 },
 "nbformat": 4,
 "nbformat_minor": 2
}
