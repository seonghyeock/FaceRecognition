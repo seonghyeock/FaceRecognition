{
 "cells": [
  {
   "cell_type": "code",
   "execution_count": 1,
   "metadata": {},
   "outputs": [
    {
     "name": "stdout",
     "output_type": "stream",
     "text": [
      "Processing video: ChimLe.mp4\n"
     ]
    },
    {
     "ename": "error",
     "evalue": "OpenCV(4.9.0) D:\\a\\opencv-python\\opencv-python\\opencv\\modules\\core\\src\\matrix_operations.cpp:67: error: (-215:Assertion failed) src[i].dims <= 2 && src[i].rows == src[0].rows && src[i].type() == src[0].type() in function 'cv::hconcat'\n",
     "output_type": "error",
     "traceback": [
      "\u001b[1;31m---------------------------------------------------------------------------\u001b[0m",
      "\u001b[1;31merror\u001b[0m                                     Traceback (most recent call last)",
      "Cell \u001b[1;32mIn[1], line 59\u001b[0m\n\u001b[0;32m     57\u001b[0m         face_frame \u001b[38;5;241m=\u001b[39m face\u001b[38;5;241m.\u001b[39mcopy()\n\u001b[0;32m     58\u001b[0m     \u001b[38;5;28;01melse\u001b[39;00m:\n\u001b[1;32m---> 59\u001b[0m         face_frame \u001b[38;5;241m=\u001b[39m \u001b[43mcv2\u001b[49m\u001b[38;5;241;43m.\u001b[39;49m\u001b[43mhconcat\u001b[49m\u001b[43m(\u001b[49m\u001b[43m[\u001b[49m\u001b[43mface_frame\u001b[49m\u001b[43m,\u001b[49m\u001b[43m \u001b[49m\u001b[43mface\u001b[49m\u001b[43m]\u001b[49m\u001b[43m)\u001b[49m\n\u001b[0;32m     60\u001b[0m \u001b[38;5;28;01mif\u001b[39;00m face_frame \u001b[38;5;129;01mis\u001b[39;00m \u001b[38;5;129;01mnot\u001b[39;00m \u001b[38;5;28;01mNone\u001b[39;00m:\n\u001b[0;32m     61\u001b[0m     cv2\u001b[38;5;241m.\u001b[39mimshow(\u001b[38;5;124m'\u001b[39m\u001b[38;5;124mFace\u001b[39m\u001b[38;5;124m'\u001b[39m, face_frame)\n",
      "\u001b[1;31merror\u001b[0m: OpenCV(4.9.0) D:\\a\\opencv-python\\opencv-python\\opencv\\modules\\core\\src\\matrix_operations.cpp:67: error: (-215:Assertion failed) src[i].dims <= 2 && src[i].rows == src[0].rows && src[i].type() == src[0].type() in function 'cv::hconcat'\n"
     ]
    },
    {
     "ename": "",
     "evalue": "",
     "output_type": "error",
     "traceback": [
      "\u001b[1;31mThe Kernel crashed while executing code in the current cell or a previous cell. \n",
      "\u001b[1;31mPlease review the code in the cell(s) to identify a possible cause of the failure. \n",
      "\u001b[1;31mClick <a href='https://aka.ms/vscodeJupyterKernelCrash'>here</a> for more info. \n",
      "\u001b[1;31mView Jupyter <a href='command:jupyter.viewOutput'>log</a> for further details."
     ]
    }
   ],
   "source": [
    "import cv2\n",
    "import os\n",
    "\n",
    "# 동영상 파일이 있는 폴더 경로\n",
    "video_folder_path = r\"C:\\Users\\chosh\\Desktop\\VideoInput\"\n",
    "\n",
    "# 폴더 내의 모든 파일에 대해 반복\n",
    "for filename in os.listdir(video_folder_path):\n",
    "    # 파일 경로 생성\n",
    "    video_path = os.path.join(video_folder_path, filename)\n",
    "\n",
    "    # 동영상 파일인지 확인\n",
    "    if not os.path.isfile(video_path) or not video_path.lower().endswith(('.avi', '.mp4', '.mkv', '.mov')):\n",
    "        continue\n",
    "\n",
    "    # 얼굴 검출기 초기화\n",
    "    face_cascade = cv2.CascadeClassifier(cv2.data.haarcascades + 'haarcascade_frontalface_default.xml')\n",
    "\n",
    "    # 동영상 파일 열기\n",
    "    cap = cv2.VideoCapture(video_path)\n",
    "\n",
    "    # 동영상 파일이 제대로 열렸는지 확인\n",
    "    if not cap.isOpened():\n",
    "        print(f\"Error: {filename} 동영상 파일을 열 수 없습니다.\")\n",
    "        continue\n",
    "\n",
    "    print(f\"Processing video: {filename}\")\n",
    "\n",
    "    # Face 창 생성\n",
    "    cv2.namedWindow('Face', cv2.WINDOW_NORMAL)\n",
    "\n",
    "    # 동영상 파일로부터 프레임을 읽어옴\n",
    "    while True:\n",
    "        ret, frame = cap.read()\n",
    "\n",
    "        # 동영상의 끝에 도달하면 종료\n",
    "        if not ret:\n",
    "            break\n",
    "\n",
    "        # 그레이스케일로 변환\n",
    "        gray = cv2.cvtColor(frame, cv2.COLOR_BGR2GRAY)\n",
    "\n",
    "        # 얼굴 검출\n",
    "        faces = face_cascade.detectMultiScale(gray, scaleFactor=1.3, minNeighbors=5)\n",
    "\n",
    "        # Video 창에 인식된 얼굴에 박스 그리기\n",
    "        for (x, y, w, h) in faces:\n",
    "            cv2.rectangle(frame, (x, y), (x+w, y+h), (255, 0, 0), 2)\n",
    "\n",
    "        # Face 창에 인식된 모든 얼굴 crop하여 보여주기\n",
    "        face_frame = frame.copy()\n",
    "        for (x, y, w, h) in faces:\n",
    "            # 얼굴 영역 추출\n",
    "            face = frame[y:y+h, x:x+w]\n",
    "            # Face 창에 보여주기\n",
    "            cv2.imshow('Face', face)\n",
    "            # 'q' 키를 누르면 종료\n",
    "            if cv2.waitKey(1) & 0xFF == ord('q'):\n",
    "                break\n",
    "\n",
    "        # 화면에 동영상 프레임 표시\n",
    "        cv2.imshow('Video', frame)\n",
    "\n",
    "        # 'q' 키를 누르면 종료\n",
    "        if cv2.waitKey(1) & 0xFF == ord('q'):\n",
    "            break\n",
    "\n",
    "    # 작업 완료 후, 자원 해제 및 창 닫기\n",
    "    cap.release()\n",
    "    cv2.destroyAllWindows()\n",
    "\n",
    "print(\"모든 동영상 파일 처리 완료\")\n"
   ]
  }
 ],
 "metadata": {
  "kernelspec": {
   "display_name": "conda",
   "language": "python",
   "name": "conda"
  },
  "language_info": {
   "codemirror_mode": {
    "name": "ipython",
    "version": 3
   },
   "file_extension": ".py",
   "mimetype": "text/x-python",
   "name": "python",
   "nbconvert_exporter": "python",
   "pygments_lexer": "ipython3",
   "version": "3.10.6"
  }
 },
 "nbformat": 4,
 "nbformat_minor": 2
}
