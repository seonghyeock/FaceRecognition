{
 "cells": [
  {
   "cell_type": "code",
   "execution_count": 6,
   "metadata": {},
   "outputs": [],
   "source": [
    "import cv2\n",
    "import os"
   ]
  },
  {
   "cell_type": "code",
   "execution_count": 7,
   "metadata": {},
   "outputs": [],
   "source": [
    "# 동영상 파일이 있는 폴더 경로\n",
    "video_folder_path = r\"C:\\Users\\chosh\\Desktop\\VideoInput\""
   ]
  },
  {
   "cell_type": "code",
   "execution_count": 8,
   "metadata": {},
   "outputs": [
    {
     "name": "stdout",
     "output_type": "stream",
     "text": [
      "Processing video: ChimLe.mp4\n"
     ]
    }
   ],
   "source": [
    "for filename in os.listdir(video_folder_path):\n",
    "    # 비디오 경로 불러오기\n",
    "    video_path = os.path.join(video_folder_path, filename)\n",
    "\n",
    "    # 동영상 파일인지 확인\n",
    "    if not os.path.isfile(video_path) or not video_path.lower().endswith(('.avi', '.mp4', '.mkv', '.mov')):\n",
    "        continue\n",
    "\n",
    "    # 얼굴 검출기 초기화\n",
    "    # haarcascade_frontalface_default.xml 파일은 OpenCV 공식 GitHub 저장소에서 다운로드 가능하며 실행 파일과 같은 디렉토리에 있어야 함\n",
    "    face_cascade = cv2.CascadeClassifier(cv2.data.haarcascades + 'haarcascade_frontalface_default.xml')\n",
    "\n",
    "    # 동영상 파일 열기\n",
    "    cap = cv2.VideoCapture(video_path)\n",
    "\n",
    "    # 동영상 파일이 제대로 열렸는지 확인\n",
    "    if not cap.isOpened():\n",
    "        print(f\"Error: {filename} 동영상 파일을 열 수 없습니다.\")\n",
    "        continue\n",
    "\n",
    "    print(f\"Processing video: {filename}\")\n",
    "\n",
    "    # Face 창 생성\n",
    "    # namedWindow('창의 이름', 창의 속성)\n",
    "    # cv2.WINDOW_NORMAL: 창 크기를 조정할 수 있도록 지정하는 상수\n",
    "    cv2.namedWindow('Face', cv2.WINDOW_NORMAL)\n",
    "\n",
    "    # 동영상 파일로부터 프레임을 읽어옴\n",
    "    while True:\n",
    "        ret, frame = cap.read()\n",
    "\n",
    "        # 동영상의 끝에 도달하면 종료\n",
    "        if not ret:\n",
    "            break\n",
    "\n",
    "        # 그레이스케일로 변환\n",
    "        gray = cv2.cvtColor(frame, cv2.COLOR_BGR2GRAY)\n",
    "\n",
    "        # 얼굴 검출\n",
    "        # scaleFactor: 이미지 크기를 늘리거나 줄어드는 비율\n",
    "        # minNeighbors: 얼굴 후보 사각형의 최소 이웃 수\n",
    "        faces = face_cascade.detectMultiScale(gray, scaleFactor=1.3, minNeighbors=5)\n",
    "\n",
    "        # Video 창에 인식한 얼굴에 사각형 박스 표시\n",
    "        for (x, y, w, h) in faces:\n",
    "            cv2.rectangle(frame, (x, y), (x+w, y+h), (255, 0, 0), 2)\n",
    "\n",
    "        # Video 창에 표시\n",
    "        cv2.imshow('Video', frame)\n",
    "\n",
    "        # Face 창에 인식된 얼굴만 표시\n",
    "        for (x, y, w, h) in faces:\n",
    "            # 얼굴 영역 추출\n",
    "            face_roi = frame[y:y+h, x:x+w]\n",
    "\n",
    "            # 추출된 얼굴 영역을 'Face' 창에 표시\n",
    "            cv2.imshow('Face', face_roi)\n",
    "\n",
    "        # 'q' 키를 누르면 종료\n",
    "        if cv2.waitKey(1) & 0xFF == ord('q'):\n",
    "            break\n",
    "\n",
    "    # 작업 완료 후, 자원 해제 및 창 닫기\n",
    "    cap.release()\n",
    "    cv2.destroyAllWindows()"
   ]
  },
  {
   "cell_type": "code",
   "execution_count": 9,
   "metadata": {},
   "outputs": [
    {
     "name": "stdout",
     "output_type": "stream",
     "text": [
      "모든 동영상 파일 처리 완료\n"
     ]
    }
   ],
   "source": [
    "print(\"모든 동영상 파일 처리 완료\")"
   ]
  }
 ],
 "metadata": {
  "kernelspec": {
   "display_name": "conda",
   "language": "python",
   "name": "conda"
  },
  "language_info": {
   "codemirror_mode": {
    "name": "ipython",
    "version": 3
   },
   "file_extension": ".py",
   "mimetype": "text/x-python",
   "name": "python",
   "nbconvert_exporter": "python",
   "pygments_lexer": "ipython3",
   "version": "3.10.6"
  }
 },
 "nbformat": 4,
 "nbformat_minor": 2
}
